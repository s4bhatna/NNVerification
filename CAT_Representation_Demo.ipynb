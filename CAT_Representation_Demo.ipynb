{
 "cells": [
  {
   "cell_type": "code",
   "execution_count": 1,
   "metadata": {},
   "outputs": [],
   "source": [
    "import numpy as np\n",
    "import cat"
   ]
  },
  {
   "cell_type": "code",
   "execution_count": 7,
   "metadata": {},
   "outputs": [
    {
     "name": "stdout",
     "output_type": "stream",
     "text": [
      "[[ 3  4  0  0]\n",
      " [ 1  2  1 -5]\n",
      " [-1 -5 -3  3]\n",
      " [ 2  4  1 -5]]\n"
     ]
    }
   ],
   "source": [
    "#Demonstration inputs\n",
    "X = np.random.randint(low = -5,  high = 5, size = (16, 1))\n",
    "X = X.reshape((4, 4))\n",
    "W = np.array([1, 2, 3, 4])\n",
    "print(X)"
   ]
  },
  {
   "cell_type": "code",
   "execution_count": 3,
   "metadata": {},
   "outputs": [
    {
     "data": {
      "text/plain": [
       "array([ 2,  2, -2,  0,  0,  1,  3,  2,  2,  0,  4,  4, -2,  3, -1,  2])"
      ]
     },
     "execution_count": 3,
     "metadata": {},
     "output_type": "execute_result"
    }
   ],
   "source": [
    "#Input transformation for CAT\n",
    "x_v = cat.transform_input(X)\n",
    "x_v"
   ]
  },
  {
   "cell_type": "code",
   "execution_count": 4,
   "metadata": {},
   "outputs": [
    {
     "name": "stdout",
     "output_type": "stream",
     "text": [
      "Y: [[ 1 -2 -1 -4 -3  1  2  0 -2 -4]]\n",
      "ReLU(Y): [[1. 0. 0. 0. 0. 1. 2. 0. 0. 0.]]\n"
     ]
    }
   ],
   "source": [
    "#ReLU activation in CAT\n",
    "Y = np.random.randint(low = -5, high = 5, size = (10, 1))\n",
    "print(\"Y:\", Y.T)\n",
    "print(\"ReLU(Y):\", cat.relu(Y).T)"
   ]
  },
  {
   "cell_type": "code",
   "execution_count": 8,
   "metadata": {},
   "outputs": [
    {
     "name": "stdout",
     "output_type": "stream",
     "text": [
      "X: [[ 3  4  0  0]\n",
      " [ 1  2  1 -5]\n",
      " [-1 -5 -3  3]\n",
      " [ 2  4  1 -5]]\n",
      "W: [1 2 3 4]\n",
      "W_F: [[1. 2. 0. 0. 3. 4. 0. 0. 0. 0. 0. 0. 0. 0. 0. 0.]\n",
      " [0. 1. 2. 0. 0. 3. 4. 0. 0. 0. 0. 0. 0. 0. 0. 0.]\n",
      " [0. 0. 1. 2. 0. 0. 3. 4. 0. 0. 0. 0. 0. 0. 0. 0.]\n",
      " [0. 0. 0. 0. 1. 2. 0. 0. 3. 4. 0. 0. 0. 0. 0. 0.]\n",
      " [0. 0. 0. 0. 0. 1. 2. 0. 0. 3. 4. 0. 0. 0. 0. 0.]\n",
      " [0. 0. 0. 0. 0. 0. 1. 2. 0. 0. 3. 4. 0. 0. 0. 0.]\n",
      " [0. 0. 0. 0. 0. 0. 0. 0. 1. 2. 0. 0. 3. 4. 0. 0.]\n",
      " [0. 0. 0. 0. 0. 0. 0. 0. 0. 1. 2. 0. 0. 3. 4. 0.]\n",
      " [0. 0. 0. 0. 0. 0. 0. 0. 0. 0. 1. 2. 0. 0. 3. 4.]]\n"
     ]
    }
   ],
   "source": [
    "#Convolution Matrix in CAT\n",
    "W_F = cat.conv_weights(W, X)\n",
    "print(\"X:\", X)\n",
    "print(\"W:\", W)\n",
    "print(\"W_F:\", W_F)"
   ]
  },
  {
   "cell_type": "code",
   "execution_count": 12,
   "metadata": {},
   "outputs": [
    {
     "name": "stdout",
     "output_type": "stream",
     "text": [
      "Wx + b:  [ 23.  15. -16. -17. -22.  -5.  12.   6. -13.]\n",
      "ReLU(Wx + b):  [23. 15.  0.  0.  0.  0. 12.  6.  0.]\n"
     ]
    }
   ],
   "source": [
    "b = np.ones(W_F.shape[0])\n",
    "x_v = cat.transform_input(X)\n",
    "#cat.fully_connected(W_F, b, x_v)\n",
    "print(\"Wx + b: \", np.matmul(W_F, x_v)+b)\n",
    "print(\"ReLU(Wx + b): \", cat.fully_connected(W_F, b, x_v))"
   ]
  }
 ],
 "metadata": {
  "kernelspec": {
   "display_name": "Python 3",
   "language": "python",
   "name": "python3"
  },
  "language_info": {
   "codemirror_mode": {
    "name": "ipython",
    "version": 3
   },
   "file_extension": ".py",
   "mimetype": "text/x-python",
   "name": "python",
   "nbconvert_exporter": "python",
   "pygments_lexer": "ipython3",
   "version": "3.7.4"
  }
 },
 "nbformat": 4,
 "nbformat_minor": 2
}
