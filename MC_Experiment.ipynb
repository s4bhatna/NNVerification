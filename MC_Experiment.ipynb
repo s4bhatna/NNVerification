{
 "cells": [
  {
   "cell_type": "code",
   "execution_count": 1,
   "metadata": {},
   "outputs": [],
   "source": [
    "'''\n",
    "The experiment computes the integral of the function sin(x) using various MC algorithms.\n",
    "These MC algorithms can be used to compute probabilites from distributions where the \n",
    "PDF cannot be analytically integrated.\n",
    "'''\n",
    "import numpy as np"
   ]
  },
  {
   "cell_type": "code",
   "execution_count": 3,
   "metadata": {},
   "outputs": [],
   "source": [
    "def required_sample(c, var, err):\n",
    "    \"\"\"\n",
    "    Arguments:\n",
    "    \n",
    "    c   : confidence level\n",
    "    var : variance of estimate\n",
    "    err : tolerable error\n",
    "    \n",
    "    Returns the required sample size required \n",
    "    by an MC Algorithm to produce estimates\n",
    "    with an error bound given a confidence level\n",
    "    \"\"\"\n",
    "    return (np.power(c, 2)*var)/np.power(err, 2)\n",
    "\n",
    "\n",
    "def cmc(n):\n",
    "    \"\"\"\n",
    "    Arguments:\n",
    "    \n",
    "    n : number of samples\n",
    "    \n",
    "    Crude Monte Carlo estimation algorithm\n",
    "    esitmates the value of an integral using\n",
    "    basic Monte Carlo returns \n",
    "    \"\"\"\n",
    "    x = np.random.uniform(0, 1, n)\n",
    "    g = np.sin(x)\n",
    "    ans = np.mean(g)\n",
    "    var = (np.var(g))/n\n",
    "    return ans, var"
   ]
  },
  {
   "cell_type": "code",
   "execution_count": 4,
   "metadata": {},
   "outputs": [],
   "source": [
    "def anti(n):\n",
    "    \"\"\"\n",
    "    Arguments:\n",
    "    \n",
    "    n : number of samples\n",
    "    \n",
    "    Antithetic Monte-Carlo algorithm\n",
    "    uses negative covariance variables\n",
    "    to reduce variance of the estimate.\n",
    "    \"\"\"\n",
    "    x = np.random.uniform(0, 1, n)\n",
    "    y = 1 - x\n",
    "    g = (np.sin(x) + np.sin(y))/2\n",
    "    ans = np.mean(g)\n",
    "    var = (np.var(g))/n\n",
    "    return ans, var"
   ]
  },
  {
   "cell_type": "code",
   "execution_count": 5,
   "metadata": {},
   "outputs": [],
   "source": [
    "def ocv(n):\n",
    "    \"\"\"\n",
    "    Arguments:\n",
    "    \n",
    "    n : number of samples\n",
    "    \n",
    "    Optimal Control Variate algorithm\n",
    "    uses a helper function h(x) to estimate\n",
    "    the integral of g(x) and optimally\n",
    "    adjusts for the error between the two.\n",
    "    \n",
    "    Useful if g(x) cannot be integrated\n",
    "    analytically.\n",
    "    \"\"\"\n",
    "    x = np.random.uniform(0, 1, n)\n",
    "    g = np.sin(x)\n",
    "    h = np.sqrt(x)\n",
    "    M = np.stack((g, h), axis=0)\n",
    "    k = (np.cov(M)[0][1])/np.var(h)\n",
    "    ans = np.mean(g-k*h)+k*(2/3)\n",
    "    var = np.var((g-k*h))/n\n",
    "    return ans, var"
   ]
  },
  {
   "cell_type": "code",
   "execution_count": 6,
   "metadata": {},
   "outputs": [],
   "source": [
    "def imp(n):\n",
    "    \"\"\"\n",
    "    Arguments:\n",
    "    \n",
    "    n : number of samples\n",
    "    \n",
    "    Importance Sampling algorithm \n",
    "    uses a helper function h(x) and\n",
    "    estimates the integral of h(x).\n",
    "    Then uses this estimate to compute\n",
    "    the integral of the g(x).\n",
    "    \n",
    "    Used to estimate tail probabilities\n",
    "    with accuracy with a lower sample\n",
    "    requirement than CMC.\n",
    "    \n",
    "    \"\"\"\n",
    "    u = np.random.uniform(0, 1, n)\n",
    "    x = np.power(u, 2/3)\n",
    "    h = (3/2)*np.sqrt(x)\n",
    "    g = np.sin(x)\n",
    "    ans = np.mean(g/h)\n",
    "    var = (np.var(g/h))/n\n",
    "    return ans, var"
   ]
  },
  {
   "cell_type": "code",
   "execution_count": 17,
   "metadata": {},
   "outputs": [],
   "source": [
    "#Set Seed\n",
    "np.random.seed(456)\n",
    "#Compute Estimates and their Variances using different methods\n",
    "est_cmc, var_cmc = cmc(1000)\n",
    "est_imp, var_imp = imp(1000)\n",
    "est_ocv, var_ocv = ocv(1000)"
   ]
  },
  {
   "cell_type": "code",
   "execution_count": 18,
   "metadata": {},
   "outputs": [
    {
     "data": {
      "text/plain": [
       "7.594838913306361"
      ]
     },
     "execution_count": 18,
     "metadata": {},
     "output_type": "execute_result"
    }
   ],
   "source": [
    "'''\n",
    "Efficiency is given by the ratio of \n",
    "variances of the two methods.\n",
    "For example below variance\n",
    "of importance sampling is \n",
    "7.6 times the variance of\n",
    "optimal control variates\n",
    "'''\n",
    "var_imp/var_ocv"
   ]
  },
  {
   "cell_type": "code",
   "execution_count": 19,
   "metadata": {},
   "outputs": [
    {
     "name": "stdout",
     "output_type": "stream",
     "text": [
      "Crude Monte-Carlo: 24059.65\n",
      "Importance Sampling: 3808.72\n",
      "Optimal Control Variate: 501.49\n"
     ]
    }
   ],
   "source": [
    "#Required sample size for each of the methods\n",
    "req_samp_cmc = required_sample(1.96, var_cmc, 0.0001)\n",
    "req_samp_imp = required_sample(1.96, var_imp, 0.0001)\n",
    "req_samp_ocv = required_sample(1.96, var_ocv, 0.0001)\n",
    "print(\"Crude Monte-Carlo: %.2f\" %req_samp_cmc)\n",
    "print(\"Importance Sampling: %.2f\" %req_samp_imp)\n",
    "print(\"Optimal Control Variate: %.2f\" %req_samp_ocv)"
   ]
  },
  {
   "cell_type": "code",
   "execution_count": 63,
   "metadata": {},
   "outputs": [
    {
     "name": "stdout",
     "output_type": "stream",
     "text": [
      "Efficiency Analysis\n",
      "CMC v. IMP: 6.32\n",
      "CMC v. OCV: 47.98\n",
      "IMP v. OCV: 7.59\n"
     ]
    }
   ],
   "source": [
    "print(\"Efficiency Analysis\")\n",
    "print(\"CMC v. IMP: %.2f\" %(var_cmc/var_imp))\n",
    "print(\"CMC v. OCV: %.2f\" %(var_cmc/var_ocv))\n",
    "print(\"IMP v. OCV: %.2f\" %(var_imp/var_ocv))"
   ]
  },
  {
   "cell_type": "code",
   "execution_count": 25,
   "metadata": {},
   "outputs": [],
   "source": [
    "'''\n",
    "Lipschitz Analysis\n",
    "\n",
    "The output of the robustness measure is sensitive\n",
    "to k the Lipschitz constant. Hence the choice of k\n",
    "is very important if k is large then the Lipschitz\n",
    "condition will always be satisfied over a part of\n",
    "the domain of f().\n",
    "\n",
    "'''\n",
    "def f(x):\n",
    "    return x**2\n",
    "\n",
    "def two_norm(x, y):\n",
    "    return np.linalg.norm(x-y, 2)"
   ]
  },
  {
   "cell_type": "code",
   "execution_count": 43,
   "metadata": {},
   "outputs": [],
   "source": [
    "x = np.random.uniform(1,10,(5,1))\n",
    "y = np.random.uniform(1,10,(5,1))"
   ]
  },
  {
   "cell_type": "code",
   "execution_count": 44,
   "metadata": {},
   "outputs": [
    {
     "data": {
      "text/plain": [
       "array([[6.15508711],\n",
       "       [5.77881935],\n",
       "       [4.53548733],\n",
       "       [9.41010637],\n",
       "       [6.45858956]])"
      ]
     },
     "execution_count": 44,
     "metadata": {},
     "output_type": "execute_result"
    }
   ],
   "source": [
    "x"
   ]
  },
  {
   "cell_type": "code",
   "execution_count": 45,
   "metadata": {},
   "outputs": [
    {
     "data": {
      "text/plain": [
       "array([[5.24255308],\n",
       "       [5.56570279],\n",
       "       [2.8959335 ],\n",
       "       [7.39914442],\n",
       "       [1.20984247]])"
      ]
     },
     "execution_count": 45,
     "metadata": {},
     "output_type": "execute_result"
    }
   ],
   "source": [
    "y"
   ]
  },
  {
   "cell_type": "code",
   "execution_count": 47,
   "metadata": {},
   "outputs": [
    {
     "data": {
      "text/plain": [
       "array([[3.22501698],\n",
       "       [1.55489727],\n",
       "       [3.49058941],\n",
       "       [5.81401443],\n",
       "       [6.344262  ]])"
      ]
     },
     "execution_count": 47,
     "metadata": {},
     "output_type": "execute_result"
    }
   ],
   "source": [
    "np.sqrt(x**2-y**2)"
   ]
  },
  {
   "cell_type": "code",
   "execution_count": 57,
   "metadata": {},
   "outputs": [],
   "source": [
    "g = f(x)**2-f(y)**2\n",
    "g = np.sqrt(g)"
   ]
  },
  {
   "cell_type": "code",
   "execution_count": 62,
   "metadata": {},
   "outputs": [
    {
     "data": {
      "text/plain": [
       "array([[ True],\n",
       "       [ True],\n",
       "       [ True],\n",
       "       [False],\n",
       "       [ True]])"
      ]
     },
     "execution_count": 62,
     "metadata": {},
     "output_type": "execute_result"
    }
   ],
   "source": [
    "h = 10*np.sqrt(x**2-y**2)\n",
    "g<h"
   ]
  }
 ],
 "metadata": {
  "kernelspec": {
   "display_name": "Python 3",
   "language": "python",
   "name": "python3"
  },
  "language_info": {
   "codemirror_mode": {
    "name": "ipython",
    "version": 3
   },
   "file_extension": ".py",
   "mimetype": "text/x-python",
   "name": "python",
   "nbconvert_exporter": "python",
   "pygments_lexer": "ipython3",
   "version": "3.7.4"
  }
 },
 "nbformat": 4,
 "nbformat_minor": 2
}
